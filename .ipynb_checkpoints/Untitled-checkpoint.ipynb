{
 "cells": [
  {
   "cell_type": "code",
   "execution_count": 9,
   "id": "d4180b21",
   "metadata": {},
   "outputs": [],
   "source": [
    "import pandas as pd\n",
    "import numpy as np\n",
    "import requests\n",
    "from datetime import datetime, timedelta, date\n",
    "from bs4 import BeautifulSoup\n",
    "import requests\n",
    "from requests_html import HTMLSession\n",
    "import csv\n",
    "import urllib3\n",
    "import urllib.robotparser # Kiểm tra file robot.txt có được phép crawl không\n",
    "import matplotlib.pyplot as plt\n",
    "import plotly.express as px\n",
    "import plotly.graph_objects as go\n",
    "import plotly.figure_factory as ff\n",
    "from plotly.figure_factory import create_distplot\n",
    "import datetime\n",
    "pd.options.mode.chained_assignment = None  # default='warn'"
   ]
  },
  {
   "cell_type": "code",
   "execution_count": 20,
   "id": "57ac00c7",
   "metadata": {},
   "outputs": [
    {
     "name": "stderr",
     "output_type": "stream",
     "text": [
      "C:\\Users\\nqpha\\AppData\\Local\\Temp\\ipykernel_1492\\19920182.py:2: FutureWarning: The error_bad_lines argument has been deprecated and will be removed in a future version. Use on_bad_lines in the future.\n",
      "\n",
      "\n",
      "  data = pd.read_csv(f'corona-{day}-3.csv', error_bad_lines=False)\n"
     ]
    },
    {
     "name": "stdout",
     "output_type": "stream",
     "text": [
      "4\n"
     ]
    },
    {
     "name": "stderr",
     "output_type": "stream",
     "text": [
      "C:\\Users\\nqpha\\AppData\\Local\\Temp\\ipykernel_1492\\19920182.py:2: FutureWarning: The error_bad_lines argument has been deprecated and will be removed in a future version. Use on_bad_lines in the future.\n",
      "\n",
      "\n",
      "  data = pd.read_csv(f'corona-{day}-3.csv', error_bad_lines=False)\n"
     ]
    },
    {
     "name": "stdout",
     "output_type": "stream",
     "text": [
      "5\n"
     ]
    }
   ],
   "source": [
    "for day in range(4,6):\n",
    "    data = pd.read_csv(f'corona-{day}-3.csv', error_bad_lines=False)\n",
    "    for key in data.keys():\n",
    "        for i in range(len(data[key])):\n",
    "            if \",\" in str(data[key][i]) or \"+\" in str(data[key][i]) or \"N/A\" in str(data[key][i]) :\n",
    "                data[key][i]=str(data[key][i]).replace(',','')\n",
    "                data[key][i]=str(data[key][i]).replace('+','')\n",
    "            if pd.isna(data[key][i])==True or data[key][i]==\" \"or data[key][i]==\"\":\n",
    "                data[key][i]=0\n",
    "            if data[\"Continent\"][i]==0 or str(data[\"Continent\"][i])==\"0\":\n",
    "                data[\"Continent\"][i]=\"The remaining areas\"\n",
    "                data[\"Population\"][i]=0\n",
    "    for key in data.keys():\n",
    "        if key==\"Continent\" or key==\"Country,Other\":\n",
    "            a=0\n",
    "        else:\n",
    "           data[key]=pd.to_numeric(data[key]) \n",
    "    for i in range(len(data[\"Population\"])):\n",
    "                if data[\"Continent\"][i]==\"Asia\":\n",
    "                    data[\"Population\"][225]+=data[\"Population\"][i]\n",
    "                    data[\"TotalCases/1M pop\"][225]+=data[\"TotalCases/1M pop\"][i]\n",
    "                    data[\"Deaths/1M pop\"][225]+=data[\"Deaths/1M pop\"][i]\n",
    "                    data[\"TotalTests\"][225]+=data[\"TotalTests\"][i]\n",
    "                    data[\"Tests/1M pop\"][225]+=data[\"Tests/1M pop\"][i]\n",
    "                elif data[\"Continent\"][i]==\"North America\":\n",
    "                    data[\"Population\"][226]+=data[\"Population\"][i]\n",
    "                    data[\"TotalCases/1M pop\"][226]+=data[\"TotalCases/1M pop\"][i]\n",
    "                    data[\"Deaths/1M pop\"][226]+=data[\"Deaths/1M pop\"][i]\n",
    "                    data[\"TotalTests\"][226]+=data[\"TotalTests\"][i]\n",
    "                    data[\"Tests/1M pop\"][226]+=data[\"Tests/1M pop\"][i]\n",
    "                elif data[\"Continent\"][i]==\"South America\":\n",
    "                    data[\"Population\"][227]+=data[\"Population\"][i]\n",
    "                    data[\"TotalCases/1M pop\"][227]+=data[\"TotalCases/1M pop\"][i]\n",
    "                    data[\"Deaths/1M pop\"][227]+=data[\"Deaths/1M pop\"][i]\n",
    "                    data[\"TotalTests\"][227]+=data[\"TotalTests\"][i]\n",
    "                    data[\"Tests/1M pop\"][227]+=data[\"Tests/1M pop\"][i]\n",
    "                elif data[\"Continent\"][i]==\"Europe\":\n",
    "                    data[\"Population\"][228]+=data[\"Population\"][i]\n",
    "                    data[\"TotalCases/1M pop\"][228]+=data[\"TotalCases/1M pop\"][i]\n",
    "                    data[\"Deaths/1M pop\"][228]+=data[\"Deaths/1M pop\"][i]\n",
    "                    data[\"TotalTests\"][228]+=data[\"TotalTests\"][i]\n",
    "                    data[\"Tests/1M pop\"][228]+=data[\"Tests/1M pop\"][i]\n",
    "                elif data[\"Continent\"][i]==\"Africa\":\n",
    "                    data[\"Population\"][229]+=data[\"Population\"][i]\n",
    "                    data[\"TotalCases/1M pop\"][229]+=data[\"TotalCases/1M pop\"][i]\n",
    "                    data[\"Deaths/1M pop\"][229]+=data[\"Deaths/1M pop\"][i]\n",
    "                    data[\"TotalTests\"][229]+=data[\"TotalTests\"][i]\n",
    "                    data[\"Tests/1M pop\"][229]+=data[\"Tests/1M pop\"][i]\n",
    "                elif data[\"Continent\"][i]==\"Australia/Oceania\":\n",
    "                    data[\"Population\"][230]+=data[\"Population\"][i]\n",
    "                    data[\"TotalCases/1M pop\"][230]+=data[\"TotalCases/1M pop\"][i]\n",
    "                    data[\"Deaths/1M pop\"][230]+=data[\"Deaths/1M pop\"][i]\n",
    "                    data[\"TotalTests\"][230]+=data[\"TotalTests\"][i]\n",
    "                    data[\"Tests/1M pop\"][230]+=data[\"Tests/1M pop\"][i]\n",
    "                elif data[\"Continent\"][i]==\"The remaning areas\":\n",
    "                    data[\"Population\"][231]+=data[\"Population\"][i]\n",
    "                    data[\"Population\"][231]+=data[\"Population\"][i]\n",
    "                    data[\"TotalCases/1M pop\"][231]+=data[\"TotalCases/1M pop\"][i]\n",
    "                    data[\"Deaths/1M pop\"][231]+=data[\"Deaths/1M pop\"][i]\n",
    "                    data[\"TotalTests\"][231]+=data[\"TotalTests\"][i]\n",
    "                    data[\"Tests/1M pop\"][231]+=data[\"Tests/1M pop\"][i]\n",
    "                data[\"Population\"][232]+=data[\"Population\"][i]\n",
    "                data[\"TotalTests\"][232]+=data[\"TotalTests\"][i]\n",
    "                data[\"Tests/1M pop\"][232]+=data[\"Tests/1M pop\"][i]\n",
    "                data[\"TotalTests\"][0]+=data[\"TotalTests\"][i]\n",
    "                data[\"Tests/1M pop\"][0]+=data[\"Tests/1M pop\"][i]\n",
    "    data[\"Population\"][0]=data[\"Population\"][232]\n",
    "    data[\"NewCases/1M pop\"]=np.round((data[\"NewCases\"]*1000000)/data[\"Population\"],1)\n",
    "    data[\"NewDeaths/1M pop\"]=np.round((data[\"NewDeaths\"]*1000000)/data[\"Population\"],1)\n",
    "    data[\"ActiveCases/1M pop\"]=np.round((data[\"ActiveCases\"]*1000000)/data[\"Population\"],1)\n",
    "    list_key=[\"NewCases/1M pop\",\"NewDeaths/1M pop\",\"ActiveCases/1M pop\"]\n",
    "    for key in list_key:\n",
    "        for i in range(len(data[key])):\n",
    "            if \",\" in str(data[key][i]) or \"+\" in str(data[key][i]) or \"N/A\" in str(data[key][i]) :\n",
    "                data[key][i]=str(data[key][i]).replace(',','')\n",
    "                data[key][i]=str(data[key][i]).replace('+','')\n",
    "            if pd.isna(data[key][i])==True or data[key][i]==\" \"or data[key][i]==\"\":\n",
    "                data[key][i]=0\n",
    "    for key in data.keys():\n",
    "        if key==\"Continent\" or key==\"Country,Other\":\n",
    "            a=0\n",
    "        else:\n",
    "           data[key]=pd.to_numeric(data[key]) \n",
    "    print(day)\n",
    "    data.to_csv(f'corona-{day}-3-pre.csv', sep=',', na_rep='', float_format=None, columns=None, header=True, index=False, index_label=False, mode='w', encoding=None, compression='infer', quoting=None, quotechar='\"', line_terminator=None, chunksize=None, date_format=None, doublequote=True, escapechar=None, decimal='.', errors='strict', storage_options=None)"
   ]
  },
  {
   "cell_type": "code",
   "execution_count": 2,
   "id": "f7598f86",
   "metadata": {},
   "outputs": [
    {
     "name": "stderr",
     "output_type": "stream",
     "text": [
      "C:\\Users\\nqpha\\AppData\\Local\\Temp\\ipykernel_9664\\2978838654.py:1: FutureWarning: The error_bad_lines argument has been deprecated and will be removed in a future version. Use on_bad_lines in the future.\n",
      "\n",
      "\n",
      "  data = pd.read_csv('corona-4-3-pre.csv', error_bad_lines=False)\n"
     ]
    }
   ],
   "source": [
    "data = pd.read_csv('corona-4-3-pre.csv', error_bad_lines=False)"
   ]
  },
  {
   "cell_type": "code",
   "execution_count": 3,
   "id": "ca204131",
   "metadata": {},
   "outputs": [
    {
     "name": "stdout",
     "output_type": "stream",
     "text": [
      "    Country,Other  TotalCases  NewCases  TotalDeaths  NewDeaths  \\\n",
      "0           World   443752436   1651204      6009417       8084   \n",
      "1           China      110258       294         4636          0   \n",
      "2             USA    80896406     46453       983509       1477   \n",
      "3           India    42957477      5921       514908        288   \n",
      "4          Brazil    28974315     68101       651343        697   \n",
      "..            ...         ...       ...          ...        ...   \n",
      "230        Total:   159075325    721365      1719894       2560   \n",
      "231        Total:    11563156      6827       249990         85   \n",
      "232        Total:     3756493     47851         7970         46   \n",
      "233        Total:         721         0           15          0   \n",
      "234        Total:   443752436   1651204      6009417       8084   \n",
      "\n",
      "     TotalRecovered  NewRecovered  ActiveCases  Serious,Critical  \\\n",
      "0         376768976       1755928     60974043             71862   \n",
      "1            102318            84         3304                18   \n",
      "2          54430881        207970     25482016              6693   \n",
      "3          42378721         11651        63848              8944   \n",
      "4          26909481         99195      1413491              8318   \n",
      "..              ...           ...          ...               ...   \n",
      "230       137902250        961702     19453181             13619   \n",
      "231        10688759         11389       624407              1750   \n",
      "232         3331605         38944       416918               158   \n",
      "233             706             0            0                 0   \n",
      "234       376768976       1755928     60974043             71862   \n",
      "\n",
      "     TotalCases/1M pop  Deaths/1M pop   TotalTests  Tests/1M pop   Population  \\\n",
      "0              56929.0          771.0  44427449484    2728443861  42067826716   \n",
      "1                 77.0            3.0    160000000        111163   1439323776   \n",
      "2             242026.0         2942.0    955947969       2860004    334247090   \n",
      "3              30625.0          367.0    770973356        549643   1402680212   \n",
      "4             134711.0         3028.0     63776166        296516    215084963   \n",
      "..                 ...            ...          ...           ...          ...   \n",
      "230          6859517.0        55305.0  15950535230    1001702942  21674134570   \n",
      "231                0.0            0.0            0             0            0   \n",
      "232                0.0            0.0  29618299656    1818962574  42067826716   \n",
      "233                0.0            0.0            0             0            0   \n",
      "234            56929.3          771.0            0             0            0   \n",
      "\n",
      "               Continent  NewCases/1M pop  NewDeaths/1M pop  \\\n",
      "0                    All             39.3               0.2   \n",
      "1                   Asia              0.2               0.0   \n",
      "2          North America            139.0               4.4   \n",
      "3                   Asia              4.2               0.2   \n",
      "4          South America            316.6               3.2   \n",
      "..                   ...              ...               ...   \n",
      "230               Europe             33.3               0.1   \n",
      "231               Africa              inf               inf   \n",
      "232    Australia/Oceania              1.1               0.0   \n",
      "233  The remaining areas              0.0               0.0   \n",
      "234                  All              inf               inf   \n",
      "\n",
      "     ActiveCases/1M pop  \n",
      "0                1449.4  \n",
      "1                   2.3  \n",
      "2               76237.1  \n",
      "3                  45.5  \n",
      "4                6571.8  \n",
      "..                  ...  \n",
      "230               897.5  \n",
      "231                 inf  \n",
      "232                 9.9  \n",
      "233                 0.0  \n",
      "234                 inf  \n",
      "\n",
      "[235 rows x 18 columns]\n"
     ]
    }
   ],
   "source": [
    "print(data)"
   ]
  },
  {
   "cell_type": "code",
   "execution_count": 4,
   "id": "d4a7b1da",
   "metadata": {},
   "outputs": [
    {
     "data": {
      "text/plain": [
       "0                      All\n",
       "1                     Asia\n",
       "2            North America\n",
       "3                     Asia\n",
       "4            South America\n",
       "              ...         \n",
       "230                 Europe\n",
       "231                 Africa\n",
       "232      Australia/Oceania\n",
       "233    The remaining areas\n",
       "234                    All\n",
       "Name: Continent, Length: 235, dtype: object"
      ]
     },
     "execution_count": 4,
     "metadata": {},
     "output_type": "execute_result"
    }
   ],
   "source": [
    "data[\"Continent\"]"
   ]
  },
  {
   "cell_type": "code",
   "execution_count": 6,
   "id": "6353aca2",
   "metadata": {},
   "outputs": [
    {
     "name": "stdout",
     "output_type": "stream",
     "text": [
      "         TotalCases      NewCases   TotalDeaths    NewDeaths  TotalRecovered  \\\n",
      "count  2.350000e+02  2.350000e+02  2.350000e+02   235.000000    2.350000e+02   \n",
      "mean   7.553233e+06  2.810560e+04  1.022879e+05   137.600000    6.403686e+06   \n",
      "std    4.355880e+07  1.662390e+05  5.861455e+05   793.982735    3.696201e+07   \n",
      "min    1.000000e+00  0.000000e+00  0.000000e+00     0.000000    0.000000e+00   \n",
      "25%    2.273450e+04  0.000000e+00  1.850000e+02     0.000000    1.171100e+04   \n",
      "50%    1.719470e+05  9.500000e+01  2.135000e+03     0.000000    1.039330e+05   \n",
      "75%    1.130464e+06  2.030500e+03  1.506600e+04    14.500000    9.675765e+05   \n",
      "max    4.437524e+08  1.651204e+06  6.009417e+06  8084.000000    3.767690e+08   \n",
      "\n",
      "       NewRecovered   ActiveCases  Serious,Critical  TotalCases/1M pop  \\\n",
      "count  2.350000e+02  2.350000e+02        235.000000       2.350000e+02   \n",
      "mean   2.988814e+04  1.029248e+06       1223.182979       3.949907e+05   \n",
      "std    1.761304e+05  6.230614e+06       7076.770177       1.961795e+06   \n",
      "min    0.000000e+00  0.000000e+00          0.000000       0.000000e+00   \n",
      "25%    0.000000e+00  4.230000e+02          0.000000       9.262000e+03   \n",
      "50%    5.400000e+01  7.752000e+03         11.000000       8.253000e+04   \n",
      "75%    2.523500e+03  8.483400e+04        132.500000       2.127430e+05   \n",
      "max    1.755928e+06  6.097404e+07      71862.000000       1.990484e+07   \n",
      "\n",
      "       Deaths/1M pop    TotalTests  Tests/1M pop    Population  \\\n",
      "count     235.000000  2.350000e+02  2.350000e+02  2.350000e+02   \n",
      "mean     3387.225532  4.662173e+08  2.868675e+07  5.705915e+08   \n",
      "std     16408.079066  3.637788e+09  2.239783e+08  4.158191e+09   \n",
      "min         0.000000  0.000000e+00  0.000000e+00  0.000000e+00   \n",
      "25%       127.500000  2.303860e+05  9.590250e+04  5.807480e+05   \n",
      "50%       708.000000  1.758939e+06  6.399190e+05  6.704032e+06   \n",
      "75%      1814.000000  1.271544e+07  1.980670e+06  2.797527e+07   \n",
      "max    161672.000000  4.442745e+10  2.728444e+09  4.206783e+10   \n",
      "\n",
      "       NewCases/1M pop  NewDeaths/1M pop  ActiveCases/1M pop  \n",
      "count           235.00            235.00              235.00  \n",
      "mean               inf               inf                 inf  \n",
      "std                NaN               NaN                 NaN  \n",
      "min               0.00              0.00                0.00  \n",
      "25%               0.00              0.00              205.65  \n",
      "50%              27.70              0.00             1562.10  \n",
      "75%             342.85              1.65            14515.90  \n",
      "max                inf               inf                 inf  \n"
     ]
    }
   ],
   "source": [
    "print(data.describe())"
   ]
  },
  {
   "cell_type": "code",
   "execution_count": 7,
   "id": "e87fa223",
   "metadata": {},
   "outputs": [
    {
     "name": "stderr",
     "output_type": "stream",
     "text": [
      "C:\\Users\\nqpha\\AppData\\Local\\Temp\\ipykernel_1492\\4184645713.py:1: FutureWarning: Dropping of nuisance columns in DataFrame reductions (with 'numeric_only=None') is deprecated; in a future version this will raise TypeError.  Select only valid columns before calling the reduction.\n",
      "  data.median()\n"
     ]
    },
    {
     "data": {
      "text/plain": [
       "TotalCases             171947.0\n",
       "NewCases                   95.0\n",
       "TotalDeaths              2135.0\n",
       "NewDeaths                   0.0\n",
       "TotalRecovered         103933.0\n",
       "NewRecovered               54.0\n",
       "ActiveCases              7752.0\n",
       "Serious,Critical           11.0\n",
       "TotalCases/1M pop       82530.0\n",
       "Deaths/1M pop             708.0\n",
       "TotalTests            1758939.0\n",
       "Tests/1M pop           639919.0\n",
       "Population            6704032.0\n",
       "NewCases/1M pop            27.7\n",
       "NewDeaths/1M pop            0.0\n",
       "ActiveCases/1M pop       1562.1\n",
       "dtype: float64"
      ]
     },
     "execution_count": 7,
     "metadata": {},
     "output_type": "execute_result"
    }
   ],
   "source": [
    "data.median()"
   ]
  },
  {
   "cell_type": "code",
   "execution_count": 13,
   "id": "8383a756",
   "metadata": {},
   "outputs": [
    {
     "name": "stdout",
     "output_type": "stream",
     "text": [
      "   TotalCases Continent\n",
      "3   159075325    Europe\n"
     ]
    }
   ],
   "source": [
    "continent=data.loc[data[\"Country,Other\"]==\"Total:\"]\n",
    "chart7_df=pd.DataFrame(continent).reset_index()\n",
    "chart7_df=chart7_df.loc[chart7_df[\"Continent\"]!=\"All\"]\n",
    "chart7_df=pd.DataFrame(chart7_df)\n",
    "chart7_df=chart7_df.loc[chart7_df[\"Continent\"]==\"Europe\" ]\n",
    "chart7_df=chart7_df[[\"TotalCases\",\"Continent\"]]\n",
    "chart7_df=pd.DataFrame(chart7_df)\n",
    "\n",
    "print(chart7_df)\n"
   ]
  },
  {
   "cell_type": "code",
   "execution_count": 15,
   "id": "b2fae65e",
   "metadata": {},
   "outputs": [
    {
     "ename": "ImportError",
     "evalue": "FigureFactory.create_distplot requires scipy",
     "output_type": "error",
     "traceback": [
      "\u001b[1;31m---------------------------------------------------------------------------\u001b[0m",
      "\u001b[1;31mImportError\u001b[0m                               Traceback (most recent call last)",
      "Input \u001b[1;32mIn [15]\u001b[0m, in \u001b[0;36m<cell line: 6>\u001b[1;34m()\u001b[0m\n\u001b[0;32m      1\u001b[0m hist_data \u001b[38;5;241m=\u001b[39m [[\u001b[38;5;241m1.1\u001b[39m, \u001b[38;5;241m1.1\u001b[39m, \u001b[38;5;241m2.5\u001b[39m, \u001b[38;5;241m3.0\u001b[39m, \u001b[38;5;241m3.5\u001b[39m,\n\u001b[0;32m      2\u001b[0m               \u001b[38;5;241m3.5\u001b[39m, \u001b[38;5;241m4.1\u001b[39m, \u001b[38;5;241m4.4\u001b[39m, \u001b[38;5;241m4.5\u001b[39m, \u001b[38;5;241m4.5\u001b[39m,\n\u001b[0;32m      3\u001b[0m               \u001b[38;5;241m5.0\u001b[39m, \u001b[38;5;241m5.0\u001b[39m, \u001b[38;5;241m5.2\u001b[39m, \u001b[38;5;241m5.5\u001b[39m, \u001b[38;5;241m5.5\u001b[39m,\n\u001b[0;32m      4\u001b[0m               \u001b[38;5;241m5.5\u001b[39m, \u001b[38;5;241m5.5\u001b[39m, \u001b[38;5;241m5.5\u001b[39m, \u001b[38;5;241m6.1\u001b[39m, \u001b[38;5;241m7.0\u001b[39m]]\n\u001b[0;32m      5\u001b[0m group_labels \u001b[38;5;241m=\u001b[39m [\u001b[38;5;124m'\u001b[39m\u001b[38;5;124mdistplot example\u001b[39m\u001b[38;5;124m'\u001b[39m]\n\u001b[1;32m----> 6\u001b[0m fig \u001b[38;5;241m=\u001b[39m \u001b[43mcreate_distplot\u001b[49m\u001b[43m(\u001b[49m\u001b[43mhist_data\u001b[49m\u001b[43m,\u001b[49m\u001b[43m \u001b[49m\u001b[43mgroup_labels\u001b[49m\u001b[43m)\u001b[49m\n\u001b[0;32m      7\u001b[0m fig\u001b[38;5;241m.\u001b[39mshow()\n",
      "File \u001b[1;32m~\\miniconda3\\lib\\site-packages\\plotly\\figure_factory\\_distplot.py:180\u001b[0m, in \u001b[0;36mcreate_distplot\u001b[1;34m(hist_data, group_labels, bin_size, curve_type, colors, rug_text, histnorm, show_hist, show_curve, show_rug)\u001b[0m\n\u001b[0;32m    177\u001b[0m \u001b[38;5;28;01mif\u001b[39;00m rug_text \u001b[38;5;129;01mis\u001b[39;00m \u001b[38;5;28;01mNone\u001b[39;00m:\n\u001b[0;32m    178\u001b[0m     rug_text \u001b[38;5;241m=\u001b[39m []\n\u001b[1;32m--> 180\u001b[0m \u001b[43mvalidate_distplot\u001b[49m\u001b[43m(\u001b[49m\u001b[43mhist_data\u001b[49m\u001b[43m,\u001b[49m\u001b[43m \u001b[49m\u001b[43mcurve_type\u001b[49m\u001b[43m)\u001b[49m\n\u001b[0;32m    181\u001b[0m utils\u001b[38;5;241m.\u001b[39mvalidate_equal_length(hist_data, group_labels)\n\u001b[0;32m    183\u001b[0m \u001b[38;5;28;01mif\u001b[39;00m \u001b[38;5;28misinstance\u001b[39m(bin_size, (\u001b[38;5;28mfloat\u001b[39m, \u001b[38;5;28mint\u001b[39m)):\n",
      "File \u001b[1;32m~\\miniconda3\\lib\\site-packages\\plotly\\figure_factory\\_distplot.py:49\u001b[0m, in \u001b[0;36mvalidate_distplot\u001b[1;34m(hist_data, curve_type)\u001b[0m\n\u001b[0;32m     44\u001b[0m     \u001b[38;5;28;01mraise\u001b[39;00m exceptions\u001b[38;5;241m.\u001b[39mPlotlyError(\n\u001b[0;32m     45\u001b[0m         \u001b[38;5;124m\"\u001b[39m\u001b[38;5;124mcurve_type must be defined as \u001b[39m\u001b[38;5;124m\"\u001b[39m \u001b[38;5;124m\"\u001b[39m\u001b[38;5;124m'\u001b[39m\u001b[38;5;124mkde\u001b[39m\u001b[38;5;124m'\u001b[39m\u001b[38;5;124m or \u001b[39m\u001b[38;5;124m'\u001b[39m\u001b[38;5;124mnormal\u001b[39m\u001b[38;5;124m'\u001b[39m\u001b[38;5;124m\"\u001b[39m\n\u001b[0;32m     46\u001b[0m     )\n\u001b[0;32m     48\u001b[0m \u001b[38;5;28;01mif\u001b[39;00m \u001b[38;5;129;01mnot\u001b[39;00m scipy:\n\u001b[1;32m---> 49\u001b[0m     \u001b[38;5;28;01mraise\u001b[39;00m \u001b[38;5;167;01mImportError\u001b[39;00m(\u001b[38;5;124m\"\u001b[39m\u001b[38;5;124mFigureFactory.create_distplot requires scipy\u001b[39m\u001b[38;5;124m\"\u001b[39m)\n",
      "\u001b[1;31mImportError\u001b[0m: FigureFactory.create_distplot requires scipy"
     ]
    }
   ],
   "source": [
    "hist_data = [[1.1, 1.1, 2.5, 3.0, 3.5,\n",
    "              3.5, 4.1, 4.4, 4.5, 4.5,\n",
    "              5.0, 5.0, 5.2, 5.5, 5.5,\n",
    "              5.5, 5.5, 5.5, 6.1, 7.0]]\n",
    "group_labels = ['distplot example']\n",
    "fig = create_distplot(hist_data, group_labels)\n",
    "fig.show()"
   ]
  },
  {
   "cell_type": "code",
   "execution_count": 6,
   "id": "20b0ae43",
   "metadata": {},
   "outputs": [
    {
     "data": {
      "text/plain": [
       "Index(['TotalCases', 'Continent'], dtype='object')"
      ]
     },
     "execution_count": 6,
     "metadata": {},
     "output_type": "execute_result"
    }
   ],
   "source": [
    "chart7_df.columns"
   ]
  },
  {
   "cell_type": "code",
   "execution_count": 7,
   "id": "0acdd9df",
   "metadata": {},
   "outputs": [
    {
     "ename": "ImportError",
     "evalue": "FigureFactory.create_distplot requires scipy",
     "output_type": "error",
     "traceback": [
      "\u001b[1;31m---------------------------------------------------------------------------\u001b[0m",
      "\u001b[1;31mImportError\u001b[0m                               Traceback (most recent call last)",
      "Input \u001b[1;32mIn [7]\u001b[0m, in \u001b[0;36m<cell line: 1>\u001b[1;34m()\u001b[0m\n\u001b[1;32m----> 1\u001b[0m fig \u001b[38;5;241m=\u001b[39m \u001b[43mff\u001b[49m\u001b[38;5;241;43m.\u001b[39;49m\u001b[43mcreate_distplot\u001b[49m\u001b[43m(\u001b[49m\u001b[43m[\u001b[49m\u001b[43mchart7_df\u001b[49m\u001b[43m[\u001b[49m\u001b[43mc\u001b[49m\u001b[43m]\u001b[49m\u001b[43m \u001b[49m\u001b[38;5;28;43;01mfor\u001b[39;49;00m\u001b[43m \u001b[49m\u001b[43mc\u001b[49m\u001b[43m \u001b[49m\u001b[38;5;129;43;01min\u001b[39;49;00m\u001b[43m \u001b[49m\u001b[43mchart7_df\u001b[49m\u001b[38;5;241;43m.\u001b[39;49m\u001b[43mcolumns\u001b[49m\u001b[43m]\u001b[49m\u001b[43m,\u001b[49m\u001b[43m \u001b[49m\u001b[43mchart7_df\u001b[49m\u001b[38;5;241;43m.\u001b[39;49m\u001b[43mcolumns\u001b[49m\u001b[43m,\u001b[49m\u001b[43m \u001b[49m\u001b[43mbin_size\u001b[49m\u001b[38;5;241;43m=\u001b[39;49m\u001b[38;5;241;43m.25\u001b[39;49m\u001b[43m)\u001b[49m\n\u001b[0;32m      2\u001b[0m fig\u001b[38;5;241m.\u001b[39mshow()\n",
      "File \u001b[1;32m~\\miniconda3\\lib\\site-packages\\plotly\\figure_factory\\_distplot.py:180\u001b[0m, in \u001b[0;36mcreate_distplot\u001b[1;34m(hist_data, group_labels, bin_size, curve_type, colors, rug_text, histnorm, show_hist, show_curve, show_rug)\u001b[0m\n\u001b[0;32m    177\u001b[0m \u001b[38;5;28;01mif\u001b[39;00m rug_text \u001b[38;5;129;01mis\u001b[39;00m \u001b[38;5;28;01mNone\u001b[39;00m:\n\u001b[0;32m    178\u001b[0m     rug_text \u001b[38;5;241m=\u001b[39m []\n\u001b[1;32m--> 180\u001b[0m \u001b[43mvalidate_distplot\u001b[49m\u001b[43m(\u001b[49m\u001b[43mhist_data\u001b[49m\u001b[43m,\u001b[49m\u001b[43m \u001b[49m\u001b[43mcurve_type\u001b[49m\u001b[43m)\u001b[49m\n\u001b[0;32m    181\u001b[0m utils\u001b[38;5;241m.\u001b[39mvalidate_equal_length(hist_data, group_labels)\n\u001b[0;32m    183\u001b[0m \u001b[38;5;28;01mif\u001b[39;00m \u001b[38;5;28misinstance\u001b[39m(bin_size, (\u001b[38;5;28mfloat\u001b[39m, \u001b[38;5;28mint\u001b[39m)):\n",
      "File \u001b[1;32m~\\miniconda3\\lib\\site-packages\\plotly\\figure_factory\\_distplot.py:49\u001b[0m, in \u001b[0;36mvalidate_distplot\u001b[1;34m(hist_data, curve_type)\u001b[0m\n\u001b[0;32m     44\u001b[0m     \u001b[38;5;28;01mraise\u001b[39;00m exceptions\u001b[38;5;241m.\u001b[39mPlotlyError(\n\u001b[0;32m     45\u001b[0m         \u001b[38;5;124m\"\u001b[39m\u001b[38;5;124mcurve_type must be defined as \u001b[39m\u001b[38;5;124m\"\u001b[39m \u001b[38;5;124m\"\u001b[39m\u001b[38;5;124m'\u001b[39m\u001b[38;5;124mkde\u001b[39m\u001b[38;5;124m'\u001b[39m\u001b[38;5;124m or \u001b[39m\u001b[38;5;124m'\u001b[39m\u001b[38;5;124mnormal\u001b[39m\u001b[38;5;124m'\u001b[39m\u001b[38;5;124m\"\u001b[39m\n\u001b[0;32m     46\u001b[0m     )\n\u001b[0;32m     48\u001b[0m \u001b[38;5;28;01mif\u001b[39;00m \u001b[38;5;129;01mnot\u001b[39;00m scipy:\n\u001b[1;32m---> 49\u001b[0m     \u001b[38;5;28;01mraise\u001b[39;00m \u001b[38;5;167;01mImportError\u001b[39;00m(\u001b[38;5;124m\"\u001b[39m\u001b[38;5;124mFigureFactory.create_distplot requires scipy\u001b[39m\u001b[38;5;124m\"\u001b[39m)\n",
      "\u001b[1;31mImportError\u001b[0m: FigureFactory.create_distplot requires scipy"
     ]
    }
   ],
   "source": [
    "fig = ff.create_distplot([chart7_df[c] for c in chart7_df.columns], chart7_df.columns, bin_size=.25)\n",
    "fig.show()"
   ]
  },
  {
   "cell_type": "code",
   "execution_count": 12,
   "id": "ccd44aff",
   "metadata": {},
   "outputs": [
    {
     "ename": "ImportError",
     "evalue": "FigureFactory.create_distplot requires scipy",
     "output_type": "error",
     "traceback": [
      "\u001b[1;31m---------------------------------------------------------------------------\u001b[0m",
      "\u001b[1;31mImportError\u001b[0m                               Traceback (most recent call last)",
      "Input \u001b[1;32mIn [12]\u001b[0m, in \u001b[0;36m<cell line: 3>\u001b[1;34m()\u001b[0m\n\u001b[0;32m      1\u001b[0m df \u001b[38;5;241m=\u001b[39m pd\u001b[38;5;241m.\u001b[39mDataFrame({\u001b[38;5;124m'\u001b[39m\u001b[38;5;124m2012\u001b[39m\u001b[38;5;124m'\u001b[39m: np\u001b[38;5;241m.\u001b[39mrandom\u001b[38;5;241m.\u001b[39mrandn(\u001b[38;5;241m200\u001b[39m),\n\u001b[0;32m      2\u001b[0m                    \u001b[38;5;124m'\u001b[39m\u001b[38;5;124m2013\u001b[39m\u001b[38;5;124m'\u001b[39m: np\u001b[38;5;241m.\u001b[39mrandom\u001b[38;5;241m.\u001b[39mrandn(\u001b[38;5;241m200\u001b[39m)\u001b[38;5;241m+\u001b[39m\u001b[38;5;241m1\u001b[39m})\n\u001b[1;32m----> 3\u001b[0m fig \u001b[38;5;241m=\u001b[39m \u001b[43mcreate_distplot\u001b[49m\u001b[43m(\u001b[49m\u001b[43m[\u001b[49m\u001b[43mdf\u001b[49m\u001b[43m[\u001b[49m\u001b[43mc\u001b[49m\u001b[43m]\u001b[49m\u001b[43m \u001b[49m\u001b[38;5;28;43;01mfor\u001b[39;49;00m\u001b[43m \u001b[49m\u001b[43mc\u001b[49m\u001b[43m \u001b[49m\u001b[38;5;129;43;01min\u001b[39;49;00m\u001b[43m \u001b[49m\u001b[43mdf\u001b[49m\u001b[38;5;241;43m.\u001b[39;49m\u001b[43mcolumns\u001b[49m\u001b[43m]\u001b[49m\u001b[43m,\u001b[49m\u001b[43m \u001b[49m\u001b[43mdf\u001b[49m\u001b[38;5;241;43m.\u001b[39;49m\u001b[43mcolumns\u001b[49m\u001b[43m,\u001b[49m\u001b[43m \u001b[49m\u001b[43mbin_size\u001b[49m\u001b[38;5;241;43m=\u001b[39;49m\u001b[38;5;241;43m.25\u001b[39;49m\u001b[43m)\u001b[49m\n\u001b[0;32m      4\u001b[0m fig\u001b[38;5;241m.\u001b[39mshow()\n",
      "File \u001b[1;32m~\\miniconda3\\lib\\site-packages\\plotly\\figure_factory\\_distplot.py:180\u001b[0m, in \u001b[0;36mcreate_distplot\u001b[1;34m(hist_data, group_labels, bin_size, curve_type, colors, rug_text, histnorm, show_hist, show_curve, show_rug)\u001b[0m\n\u001b[0;32m    177\u001b[0m \u001b[38;5;28;01mif\u001b[39;00m rug_text \u001b[38;5;129;01mis\u001b[39;00m \u001b[38;5;28;01mNone\u001b[39;00m:\n\u001b[0;32m    178\u001b[0m     rug_text \u001b[38;5;241m=\u001b[39m []\n\u001b[1;32m--> 180\u001b[0m \u001b[43mvalidate_distplot\u001b[49m\u001b[43m(\u001b[49m\u001b[43mhist_data\u001b[49m\u001b[43m,\u001b[49m\u001b[43m \u001b[49m\u001b[43mcurve_type\u001b[49m\u001b[43m)\u001b[49m\n\u001b[0;32m    181\u001b[0m utils\u001b[38;5;241m.\u001b[39mvalidate_equal_length(hist_data, group_labels)\n\u001b[0;32m    183\u001b[0m \u001b[38;5;28;01mif\u001b[39;00m \u001b[38;5;28misinstance\u001b[39m(bin_size, (\u001b[38;5;28mfloat\u001b[39m, \u001b[38;5;28mint\u001b[39m)):\n",
      "File \u001b[1;32m~\\miniconda3\\lib\\site-packages\\plotly\\figure_factory\\_distplot.py:49\u001b[0m, in \u001b[0;36mvalidate_distplot\u001b[1;34m(hist_data, curve_type)\u001b[0m\n\u001b[0;32m     44\u001b[0m     \u001b[38;5;28;01mraise\u001b[39;00m exceptions\u001b[38;5;241m.\u001b[39mPlotlyError(\n\u001b[0;32m     45\u001b[0m         \u001b[38;5;124m\"\u001b[39m\u001b[38;5;124mcurve_type must be defined as \u001b[39m\u001b[38;5;124m\"\u001b[39m \u001b[38;5;124m\"\u001b[39m\u001b[38;5;124m'\u001b[39m\u001b[38;5;124mkde\u001b[39m\u001b[38;5;124m'\u001b[39m\u001b[38;5;124m or \u001b[39m\u001b[38;5;124m'\u001b[39m\u001b[38;5;124mnormal\u001b[39m\u001b[38;5;124m'\u001b[39m\u001b[38;5;124m\"\u001b[39m\n\u001b[0;32m     46\u001b[0m     )\n\u001b[0;32m     48\u001b[0m \u001b[38;5;28;01mif\u001b[39;00m \u001b[38;5;129;01mnot\u001b[39;00m scipy:\n\u001b[1;32m---> 49\u001b[0m     \u001b[38;5;28;01mraise\u001b[39;00m \u001b[38;5;167;01mImportError\u001b[39;00m(\u001b[38;5;124m\"\u001b[39m\u001b[38;5;124mFigureFactory.create_distplot requires scipy\u001b[39m\u001b[38;5;124m\"\u001b[39m)\n",
      "\u001b[1;31mImportError\u001b[0m: FigureFactory.create_distplot requires scipy"
     ]
    }
   ],
   "source": [
    "df = pd.DataFrame({'2012': np.random.randn(200),\n",
    "                   '2013': np.random.randn(200)+1})\n",
    "fig = create_distplot([df[c] for c in df.columns], df.columns, bin_size=.25)\n",
    "fig.show()"
   ]
  }
 ],
 "metadata": {
  "kernelspec": {
   "display_name": "Python 3 (ipykernel)",
   "language": "python",
   "name": "python3"
  },
  "language_info": {
   "codemirror_mode": {
    "name": "ipython",
    "version": 3
   },
   "file_extension": ".py",
   "mimetype": "text/x-python",
   "name": "python",
   "nbconvert_exporter": "python",
   "pygments_lexer": "ipython3",
   "version": "3.9.7"
  }
 },
 "nbformat": 4,
 "nbformat_minor": 5
}
